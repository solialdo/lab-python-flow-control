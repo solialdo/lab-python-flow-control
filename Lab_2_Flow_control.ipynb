{
  "nbformat": 4,
  "nbformat_minor": 0,
  "metadata": {
    "colab": {
      "provenance": []
    },
    "kernelspec": {
      "name": "python3",
      "display_name": "Python 3"
    },
    "language_info": {
      "name": "python"
    }
  },
  "cells": [
    {
      "cell_type": "code",
      "execution_count": 1,
      "metadata": {
        "colab": {
          "base_uri": "https://localhost:8080/"
        },
        "id": "65AaljrvFJft",
        "outputId": "267b56e8-5700-48de-86ab-bdef11c0507b"
      },
      "outputs": [
        {
          "output_type": "stream",
          "name": "stdout",
          "text": [
            "t-shirt quantity? in numbers: 20\n",
            "mug quantity? in numbers: 10\n",
            "hat quantity? in numbers: 30\n",
            "book quantity? in numbers: 40\n",
            "keychain quantity? in numbers: 50\n",
            "\n",
            "\n",
            " {'t-shirt': 20, 'mug': 10, 'hat': 30, 'book': 40, 'keychain': 50} \n",
            "\n",
            "\n",
            "select your product: ['t-shirt', 'mug', 'hat', 'book', 'keychain']book\n",
            "Do you want to add another product? Yes/No: yes\n",
            "select your product: ['t-shirt', 'mug', 'hat', 'book', 'keychain']hat\n",
            "Do you want to add another product? Yes/No: yes\n",
            "select your product: ['t-shirt', 'mug', 'hat', 'book', 'keychain']mug\n",
            "Do you want to add another product? Yes/No: no\n",
            "select your product: ['t-shirt', 'mug', 'hat', 'book', 'keychain']t-shirt\n",
            "Do you want to add another product? Yes/No: No\n",
            "{'hat', 'book', 't-shirt', 'mug'}\n",
            "4\n",
            "\n",
            "Order Statistics:\n",
            "Total Products Ordered: 4\n",
            "Percentage of Products Ordered: 80.0\n",
            "\n",
            "{'t-shirt': 19, 'mug': 9, 'hat': 29, 'book': 39, 'keychain': 50}\n"
          ]
        }
      ],
      "source": [
        "products = [\"t-shirt\", \"mug\", \"hat\", \"book\", \"keychain\"]\n",
        "\n",
        "inventory = dict()\n",
        "\n",
        "for prod in products:\n",
        "    inventory[prod] = int(input(f\"{prod} quantity? in numbers: \"))\n",
        "\n",
        "print(\"\\n\\n\",inventory,\"\\n\\n\",)\n",
        "\n",
        "customer_orders = set()\n",
        "\n",
        "prod = input(f\"select your product: {products}\")\n",
        "customer_orders.add(prod)\n",
        "\n",
        "while input(\"Do you want to add another product? Yes/No: \") != \"No\":\n",
        "    prod = input(f\"select your product: {products}\")\n",
        "    customer_orders.add(prod)\n",
        "\n",
        "print(customer_orders)\n",
        "\n",
        "print(len(customer_orders))\n",
        "\n",
        "total_products_ordered = len(customer_orders)\n",
        "total_productos_available = len(products)\n",
        "percentage_products_ordered = (total_products_ordered / total_productos_available) * 100\n",
        "order_status = (total_products_ordered, percentage_products_ordered)\n",
        "\n",
        "print(\n",
        "f\"\"\"\n",
        "Order Statistics:\n",
        "Total Products Ordered: {total_products_ordered}\n",
        "Percentage of Products Ordered: {percentage_products_ordered}\n",
        "\"\"\"\n",
        ")\n",
        "\n",
        "for prod in customer_orders:\n",
        "    inventory[prod] -= 1\n",
        "\n",
        "print(inventory)"
      ]
    },
    {
      "cell_type": "code",
      "source": [],
      "metadata": {
        "id": "CzpmpEdjFN9m"
      },
      "execution_count": null,
      "outputs": []
    }
  ]
}